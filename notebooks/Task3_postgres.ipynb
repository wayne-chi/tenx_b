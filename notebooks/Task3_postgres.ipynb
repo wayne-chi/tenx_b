{
 "cells": [
  {
   "cell_type": "code",
   "execution_count": 1,
   "id": "4d7d4833",
   "metadata": {},
   "outputs": [],
   "source": [
    "import pandas as pd\n"
   ]
  },
  {
   "cell_type": "code",
   "execution_count": 2,
   "id": "4561a8a1",
   "metadata": {},
   "outputs": [],
   "source": [
    "import psycopg2"
   ]
  },
  {
   "cell_type": "code",
   "execution_count": 3,
   "id": "7ee4bd76",
   "metadata": {},
   "outputs": [],
   "source": [
    "import sqlalchemy"
   ]
  },
  {
   "cell_type": "code",
   "execution_count": 4,
   "id": "ed8acb0d",
   "metadata": {},
   "outputs": [],
   "source": [
    "\n",
    "from psycopg2 import Error\n",
    "from sqlalchemy import create_engine\n"
   ]
  },
  {
   "cell_type": "code",
   "execution_count": 6,
   "id": "c43bf16a",
   "metadata": {},
   "outputs": [],
   "source": [
    "\n",
    "# PostgreSQL connection details\n",
    "username = \"postgres\"\n",
    "password = \"##add##your##password\"\n",
    "host = \"localhost\"\n",
    "port = \"5432\"\n",
    "database = \"postgres\""
   ]
  },
  {
   "cell_type": "code",
   "execution_count": 11,
   "id": "a2c29006",
   "metadata": {},
   "outputs": [],
   "source": [
    "\n",
    "# Sample ML features DataFrame\n",
    "ml_features_df_subset = pd.read_csv('..\\data\\ML_features.csv')\n"
   ]
  },
  {
   "cell_type": "code",
   "execution_count": 35,
   "id": "434af24c",
   "metadata": {},
   "outputs": [],
   "source": [
    "# Rename the \"Domain\" column in the DataFrame to match the table column name\n",
    "ml_features_df_subset.rename(columns={\"Domain\": \"domain\"}, inplace=True)\n"
   ]
  },
  {
   "cell_type": "code",
   "execution_count": 36,
   "id": "d6a8f54b",
   "metadata": {},
   "outputs": [],
   "source": [
    "\n",
    "# Connect to PostgreSQL using variables\n",
    "\n",
    "connection = psycopg2.connect(\n",
    "    user=username,\n",
    "    password=password,\n",
    "    host=host,\n",
    "    port=port,\n",
    "    database=database\n",
    ")"
   ]
  },
  {
   "cell_type": "code",
   "execution_count": 37,
   "id": "37275e3d",
   "metadata": {},
   "outputs": [],
   "source": [
    "# Create tables using SQL\n",
    "create_table_query = \"\"\"\n",
    "CREATE TABLE IF NOT EXISTS ml_features (\n",
    "    article_id INT,\n",
    "    Domain VARCHAR(255),\n",
    "    published_at TIMESTAMP,\n",
    "    category VARCHAR(255),\n",
    "    title_sentiment VARCHAR(255),\n",
    "    article_word_count INT,\n",
    "    title_word_count INT,\n",
    "    author_count INT,\n",
    "    topic INT,\n",
    "    cluster INT\n",
    ");\n",
    "\"\"\""
   ]
  },
  {
   "cell_type": "code",
   "execution_count": 38,
   "id": "9f37be01",
   "metadata": {},
   "outputs": [],
   "source": [
    "# drop_table_query = \"DROP TABLE IF EXISTS ml_features;\"\n",
    "# # Execute SQL query to create tables\n",
    "# try:\n",
    "#     cursor = connection.cursor()\n",
    "#     cursor.execute(drop_table_query)\n",
    "#     connection.commit()\n",
    "#     print(\"Table dropped successfully!\")\n",
    "# except (Exception, Error) as error:\n",
    "#     print(\"Error while dropping table:\", error)\n",
    "# finally:\n",
    "#     if connection:\n",
    "#         cursor.close()"
   ]
  },
  {
   "cell_type": "code",
   "execution_count": 39,
   "id": "551f6496",
   "metadata": {},
   "outputs": [
    {
     "name": "stdout",
     "output_type": "stream",
     "text": [
      "Table created successfully!\n"
     ]
    }
   ],
   "source": [
    "# Execute SQL query to create tables\n",
    "try:\n",
    "    cursor = connection.cursor()\n",
    "    cursor.execute(create_table_query)\n",
    "    connection.commit()\n",
    "    print(\"Table created successfully!\")\n",
    "except (Exception, Error) as error:\n",
    "    print(\"Error while creating table:\", error)\n",
    "finally:\n",
    "    if connection:\n",
    "        cursor.close()\n"
   ]
  },
  {
   "cell_type": "code",
   "execution_count": null,
   "id": "b6dad51c",
   "metadata": {},
   "outputs": [],
   "source": []
  },
  {
   "cell_type": "code",
   "execution_count": 40,
   "id": "067d2ea8",
   "metadata": {},
   "outputs": [
    {
     "name": "stdout",
     "output_type": "stream",
     "text": [
      "Data loaded into PostgreSQL successfully!\n"
     ]
    }
   ],
   "source": [
    "\n",
    "\n",
    "# Load data into PostgreSQL\n",
    "try:\n",
    "    # Create SQLAlchemy engine\n",
    "    engine = create_engine(f'postgresql://{username}:{password}@{host}:{port}/{database}')\n",
    "\n",
    "    # Replace 'ml_features' with the name of your existing table\n",
    "    ml_features_df_subset.to_sql('ml_features', engine, if_exists='append', index=False)\n",
    "\n",
    "    print(\"Data loaded into PostgreSQL successfully!\")\n",
    "except Exception as e:\n",
    "    print(\"Error while loading data into PostgreSQL:\", e)\n",
    "finally:\n",
    "    # Close the connection\n",
    "    if connection:\n",
    "        connection.close()\n"
   ]
  },
  {
   "cell_type": "code",
   "execution_count": null,
   "id": "23fb603e",
   "metadata": {},
   "outputs": [],
   "source": []
  },
  {
   "cell_type": "code",
   "execution_count": null,
   "id": "2eb280b1",
   "metadata": {},
   "outputs": [],
   "source": []
  },
  {
   "cell_type": "code",
   "execution_count": null,
   "id": "600b1eaf",
   "metadata": {},
   "outputs": [],
   "source": []
  },
  {
   "cell_type": "code",
   "execution_count": null,
   "id": "fd0e0cf9",
   "metadata": {},
   "outputs": [],
   "source": []
  },
  {
   "cell_type": "code",
   "execution_count": null,
   "id": "117d3f17",
   "metadata": {},
   "outputs": [],
   "source": []
  }
 ],
 "metadata": {
  "kernelspec": {
   "display_name": "Python 3 (ipykernel)",
   "language": "python",
   "name": "python3"
  },
  "language_info": {
   "codemirror_mode": {
    "name": "ipython",
    "version": 3
   },
   "file_extension": ".py",
   "mimetype": "text/x-python",
   "name": "python",
   "nbconvert_exporter": "python",
   "pygments_lexer": "ipython3",
   "version": "3.9.13"
  }
 },
 "nbformat": 4,
 "nbformat_minor": 5
}
